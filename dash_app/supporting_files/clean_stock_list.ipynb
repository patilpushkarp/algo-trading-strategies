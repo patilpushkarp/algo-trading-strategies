{
 "metadata": {
  "language_info": {
   "codemirror_mode": {
    "name": "ipython",
    "version": 3
   },
   "file_extension": ".py",
   "mimetype": "text/x-python",
   "name": "python",
   "nbconvert_exporter": "python",
   "pygments_lexer": "ipython3",
   "version": "3.8.8-final"
  },
  "orig_nbformat": 2,
  "kernelspec": {
   "name": "python388jvsc74a57bd001b63e7183f354b695f5a997238e7bcaaee3106a34607f98790794d174946f3b",
   "display_name": "Python 3.8.8 64-bit ('algoexp': conda)"
  },
  "metadata": {
   "interpreter": {
    "hash": "01b63e7183f354b695f5a997238e7bcaaee3106a34607f98790794d174946f3b"
   }
  }
 },
 "nbformat": 4,
 "nbformat_minor": 2,
 "cells": [
  {
   "cell_type": "code",
   "execution_count": 1,
   "metadata": {},
   "outputs": [],
   "source": [
    "import pandas as pd\n",
    "import requests"
   ]
  },
  {
   "cell_type": "code",
   "execution_count": 2,
   "metadata": {},
   "outputs": [],
   "source": [
    "url = \"https://s3.amazonaws.com/quandl-production-static/BSE+Descriptions/stocks.txt\"\n",
    "response = requests.get(url)"
   ]
  },
  {
   "cell_type": "code",
   "execution_count": 3,
   "metadata": {},
   "outputs": [],
   "source": [
    "with open(\"bse_stocks.txt\", \"wb\") as f:\n",
    "    f.write(response.content)"
   ]
  },
  {
   "cell_type": "code",
   "execution_count": 4,
   "metadata": {},
   "outputs": [],
   "source": [
    "df = pd.read_csv('bse_stocks.txt', sep='|')"
   ]
  },
  {
   "cell_type": "code",
   "execution_count": 5,
   "metadata": {},
   "outputs": [
    {
     "output_type": "execute_result",
     "data": {
      "text/plain": [
       "                                        STOCK       CODE\n",
       "0                  20 Microns Ltd. EOD Prices  BOM533022\n",
       "1                 3i Infotech Ltd. EOD Prices  BOM532628\n",
       "2                    3m India Ltd. EOD Prices  BOM523395\n",
       "3         7seas Technologies Ltd-$ EOD Prices  BOM590116\n",
       "4  8k Miles Software Services Ltd. EOD Prices  BOM512161"
      ],
      "text/html": "<div>\n<style scoped>\n    .dataframe tbody tr th:only-of-type {\n        vertical-align: middle;\n    }\n\n    .dataframe tbody tr th {\n        vertical-align: top;\n    }\n\n    .dataframe thead th {\n        text-align: right;\n    }\n</style>\n<table border=\"1\" class=\"dataframe\">\n  <thead>\n    <tr style=\"text-align: right;\">\n      <th></th>\n      <th>STOCK</th>\n      <th>CODE</th>\n    </tr>\n  </thead>\n  <tbody>\n    <tr>\n      <th>0</th>\n      <td>20 Microns Ltd. EOD Prices</td>\n      <td>BOM533022</td>\n    </tr>\n    <tr>\n      <th>1</th>\n      <td>3i Infotech Ltd. EOD Prices</td>\n      <td>BOM532628</td>\n    </tr>\n    <tr>\n      <th>2</th>\n      <td>3m India Ltd. EOD Prices</td>\n      <td>BOM523395</td>\n    </tr>\n    <tr>\n      <th>3</th>\n      <td>7seas Technologies Ltd-$ EOD Prices</td>\n      <td>BOM590116</td>\n    </tr>\n    <tr>\n      <th>4</th>\n      <td>8k Miles Software Services Ltd. EOD Prices</td>\n      <td>BOM512161</td>\n    </tr>\n  </tbody>\n</table>\n</div>"
     },
     "metadata": {},
     "execution_count": 5
    }
   ],
   "source": [
    "df.head()"
   ]
  },
  {
   "cell_type": "code",
   "execution_count": 6,
   "metadata": {},
   "outputs": [],
   "source": [
    "df[\"STOCK\"] = df['STOCK'].apply(lambda x: x.replace(\" EOD Prices\", \"\"))"
   ]
  },
  {
   "cell_type": "code",
   "execution_count": 7,
   "metadata": {},
   "outputs": [
    {
     "output_type": "execute_result",
     "data": {
      "text/plain": [
       "                             STOCK       CODE\n",
       "0                  20 Microns Ltd.  BOM533022\n",
       "1                 3i Infotech Ltd.  BOM532628\n",
       "2                    3m India Ltd.  BOM523395\n",
       "3         7seas Technologies Ltd-$  BOM590116\n",
       "4  8k Miles Software Services Ltd.  BOM512161"
      ],
      "text/html": "<div>\n<style scoped>\n    .dataframe tbody tr th:only-of-type {\n        vertical-align: middle;\n    }\n\n    .dataframe tbody tr th {\n        vertical-align: top;\n    }\n\n    .dataframe thead th {\n        text-align: right;\n    }\n</style>\n<table border=\"1\" class=\"dataframe\">\n  <thead>\n    <tr style=\"text-align: right;\">\n      <th></th>\n      <th>STOCK</th>\n      <th>CODE</th>\n    </tr>\n  </thead>\n  <tbody>\n    <tr>\n      <th>0</th>\n      <td>20 Microns Ltd.</td>\n      <td>BOM533022</td>\n    </tr>\n    <tr>\n      <th>1</th>\n      <td>3i Infotech Ltd.</td>\n      <td>BOM532628</td>\n    </tr>\n    <tr>\n      <th>2</th>\n      <td>3m India Ltd.</td>\n      <td>BOM523395</td>\n    </tr>\n    <tr>\n      <th>3</th>\n      <td>7seas Technologies Ltd-$</td>\n      <td>BOM590116</td>\n    </tr>\n    <tr>\n      <th>4</th>\n      <td>8k Miles Software Services Ltd.</td>\n      <td>BOM512161</td>\n    </tr>\n  </tbody>\n</table>\n</div>"
     },
     "metadata": {},
     "execution_count": 7
    }
   ],
   "source": [
    "df.head()"
   ]
  },
  {
   "cell_type": "code",
   "execution_count": 8,
   "metadata": {},
   "outputs": [],
   "source": [
    "df.to_csv(\"bse_stocks.csv\", index=False)"
   ]
  },
  {
   "cell_type": "code",
   "execution_count": null,
   "metadata": {},
   "outputs": [],
   "source": []
  }
 ]
}