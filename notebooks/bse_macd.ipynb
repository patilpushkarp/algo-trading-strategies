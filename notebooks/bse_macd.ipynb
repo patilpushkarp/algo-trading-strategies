{
 "metadata": {
  "language_info": {
   "codemirror_mode": {
    "name": "ipython",
    "version": 3
   },
   "file_extension": ".py",
   "mimetype": "text/x-python",
   "name": "python",
   "nbconvert_exporter": "python",
   "pygments_lexer": "ipython3",
   "version": "3.8.8-final"
  },
  "orig_nbformat": 2,
  "kernelspec": {
   "name": "python388jvsc74a57bd001b63e7183f354b695f5a997238e7bcaaee3106a34607f98790794d174946f3b",
   "display_name": "Python 3.8.8 64-bit ('algoexp': conda)"
  },
  "metadata": {
   "interpreter": {
    "hash": "01b63e7183f354b695f5a997238e7bcaaee3106a34607f98790794d174946f3b"
   }
  }
 },
 "nbformat": 4,
 "nbformat_minor": 2,
 "cells": [
  {
   "source": [
    "# MACD strategy - BSE"
   ],
   "cell_type": "markdown",
   "metadata": {}
  },
  {
   "cell_type": "code",
   "execution_count": 125,
   "metadata": {},
   "outputs": [],
   "source": [
    "import pandas as pd\n",
    "import requests\n",
    "from datetime import datetime\n",
    "import plotly.graph_objects as go"
   ]
  },
  {
   "cell_type": "code",
   "execution_count": 126,
   "metadata": {},
   "outputs": [],
   "source": [
    "# BSE index code for Federal Bank\n",
    "# Federal back = BOM500469\n",
    "# TCS = BOM532540\n",
    "index_code = \"BOM532540\"\n",
    "start_date = \"01-05-2020\""
   ]
  },
  {
   "cell_type": "code",
   "execution_count": 127,
   "metadata": {},
   "outputs": [],
   "source": [
    "# Convert date string to datetime object\n",
    "start_date = datetime.strptime(start_date, \"%d-%m-%Y\")"
   ]
  },
  {
   "cell_type": "code",
   "execution_count": 128,
   "metadata": {},
   "outputs": [],
   "source": [
    "# Get the data for the mentioned entity from Quandl\n",
    "url = f\"https://www.quandl.com/api/v3/datasets/BSE/{index_code}?api_key=JVU4wxLxNHFtSRjCvezu\"\n",
    "\n",
    "response = requests.get(url=url).json()"
   ]
  },
  {
   "cell_type": "code",
   "execution_count": 129,
   "metadata": {},
   "outputs": [],
   "source": [
    "# Create a dataframe from the data for computation\n",
    "df = pd.DataFrame(columns=response[\"dataset\"][\"column_names\"], data=response[\"dataset\"][\"data\"])"
   ]
  },
  {
   "cell_type": "code",
   "execution_count": 130,
   "metadata": {},
   "outputs": [],
   "source": [
    "# Write data to csv\n",
    "# df.to_csv(index_code+\".csv\", index=False)"
   ]
  },
  {
   "cell_type": "code",
   "execution_count": 131,
   "metadata": {},
   "outputs": [
    {
     "output_type": "execute_result",
     "data": {
      "text/plain": [
       "Index(['Date', 'Open', 'High', 'Low', 'Close', 'WAP', 'No. of Shares',\n",
       "       'No. of Trades', 'Total Turnover', 'Deliverable Quantity',\n",
       "       '% Deli. Qty to Traded Qty', 'Spread H-L', 'Spread C-O'],\n",
       "      dtype='object')"
      ]
     },
     "metadata": {},
     "execution_count": 131
    }
   ],
   "source": [
    "df.columns"
   ]
  },
  {
   "cell_type": "code",
   "execution_count": 132,
   "metadata": {},
   "outputs": [],
   "source": [
    "# Select subset of the complete data for ease of computation\n",
    "df = df[[\"Date\", \"Open\", \"High\", \"Low\", \"Close\"]]"
   ]
  },
  {
   "cell_type": "code",
   "execution_count": 133,
   "metadata": {},
   "outputs": [],
   "source": [
    "# Fast length\n",
    "df[\"MA12\"] = df[\"Close\"].ewm(span=12, adjust=False).mean()\n",
    "# Slow Length\n",
    "df[\"MA26\"] = df[\"Close\"].ewm(span=26, adjust=False).mean()"
   ]
  },
  {
   "cell_type": "code",
   "execution_count": 134,
   "metadata": {},
   "outputs": [],
   "source": [
    "df[\"MACD\"] = df[\"MA26\"] - df[\"MA12\"]"
   ]
  },
  {
   "cell_type": "code",
   "execution_count": 135,
   "metadata": {},
   "outputs": [],
   "source": [
    "# Signal Length\n",
    "df[\"signal\"] = df[\"MACD\"].ewm(span=9, adjust=False).mean()"
   ]
  },
  {
   "cell_type": "code",
   "execution_count": 136,
   "metadata": {},
   "outputs": [],
   "source": [
    "# Step 1 for decision\n",
    "df[\"move\"] = df[\"MACD\"]>df[\"signal\"]\n",
    "df[\"move\"] = df[\"move\"].apply(lambda x: float(x))"
   ]
  },
  {
   "cell_type": "code",
   "execution_count": 137,
   "metadata": {},
   "outputs": [],
   "source": [
    "# Step 2 for decision\n",
    "df[\"positions\"] = df[\"move\"].diff()"
   ]
  },
  {
   "cell_type": "code",
   "execution_count": 138,
   "metadata": {},
   "outputs": [],
   "source": [
    "# Convert the date column to datetime object\n",
    "df[\"Date\"] = pd.to_datetime(df[\"Date\"])"
   ]
  },
  {
   "cell_type": "code",
   "execution_count": 139,
   "metadata": {},
   "outputs": [
    {
     "output_type": "stream",
     "name": "stderr",
     "text": [
      "<ipython-input-139-4e5c8341733b>:3: SettingWithCopyWarning:\n\n\nA value is trying to be set on a copy of a slice from a DataFrame\n\nSee the caveats in the documentation: https://pandas.pydata.org/pandas-docs/stable/user_guide/indexing.html#returning-a-view-versus-a-copy\n\n"
     ]
    }
   ],
   "source": [
    "# Subset the data based on date\n",
    "rev_df = df[df[\"Date\"]>start_date]\n",
    "rev_df.sort_values(\"Date\", ascending=True, inplace=True)"
   ]
  },
  {
   "cell_type": "code",
   "execution_count": 140,
   "metadata": {},
   "outputs": [],
   "source": [
    "def deal_stocks(df, initial_money=50000, max_buy=1, max_sell=1):\n",
    "    \"\"\"Function to buy or sell based on the decision column i.e. positions\n",
    "    \n",
    "    Arguments:\n",
    "    df -> Input dataframe containing the stock data\n",
    "    initial_money -> Amount of money we want to put\n",
    "    max_buy -> Maximum amount of shares we want to buy\n",
    "    max_sell -> Maximum amount of shares we want to sell\n",
    "    \"\"\"\n",
    "    money = initial_money\n",
    "    sell_days = []\n",
    "    buy_days = []\n",
    "    shares_count = 0\n",
    "\n",
    "    def buy(day, money, shares_count):\n",
    "        date = day[\"Date\"]\n",
    "        close = day[\"Close\"]\n",
    "        shares = money // day[\"Close\"]\n",
    "\n",
    "        if shares < 1:\n",
    "            print(f\"Date: {date}: Total balance: {money}, not enough money to buy {shares} shares with unit price of {close}\")\n",
    "        else:\n",
    "            if shares > max_buy:\n",
    "                units = max_buy\n",
    "            else:\n",
    "                units = shares\n",
    "\n",
    "            money = money - (units*day[\"Close\"])\n",
    "            shares_count = shares_count + units\n",
    "            print(f\"Date {date}: Buy {units} units of shares at a price of {close}, total balance is {money}\")\n",
    "            buy_days.append([date, close])\n",
    "        return money, shares_count\n",
    "\n",
    "    def sell(day, money, shares_count):\n",
    "        date = day[\"Date\"]\n",
    "        close = day[\"Close\"]\n",
    "        if shares_count == 0:\n",
    "            print(f\"Date {date}: Cannot sell anything as available shares is 0\")\n",
    "        else:\n",
    "            if shares_count > max_sell:\n",
    "                units = max_sell\n",
    "            else:\n",
    "                units = shares_count\n",
    "            money = money + (units*day[\"Close\"])\n",
    "            shares_count = shares_count - units\n",
    "            print(f\"Date {date}: Sell {units} units of shares at a price of {close}, total balance is {money}\")\n",
    "            sell_days.append([date, close])\n",
    "        return money, shares_count\n",
    "\n",
    "    for index, row in df.iterrows():\n",
    "        state = row[\"positions\"]\n",
    "        if state == 1.0:\n",
    "            money, shares_count = buy(row, money, shares_count)\n",
    "        elif state == -1.0:\n",
    "            money, shares_count = sell(row, money, shares_count)\n",
    "\n",
    "    total_gains = initial_money - money\n",
    "    return buy_days, sell_days, total_gains"
   ]
  },
  {
   "cell_type": "code",
   "execution_count": 141,
   "metadata": {},
   "outputs": [
    {
     "output_type": "stream",
     "name": "stdout",
     "text": [
      "Date 2020-05-05 00:00:00: Cannot sell anything as available shares is 0\nDate 2020-05-28 00:00:00: Buy 1 units of shares at a price of 2005.2, total balance is 47994.8\nDate 2020-06-11 00:00:00: Sell 1 units of shares at a price of 2067.8, total balance is 50062.600000000006\nDate 2020-07-01 00:00:00: Buy 1 units of shares at a price of 2092.55, total balance is 47970.05\nDate 2020-07-16 00:00:00: Sell 1 units of shares at a price of 2233.65, total balance is 50203.700000000004\nDate 2020-07-24 00:00:00: Buy 1 units of shares at a price of 2157.05, total balance is 48046.65\nDate 2020-08-25 00:00:00: Sell 1 units of shares at a price of 2242.25, total balance is 50288.9\nDate 2020-09-11 00:00:00: Buy 1 units of shares at a price of 2373.7, total balance is 47915.200000000004\nDate 2020-09-14 00:00:00: Sell 1 units of shares at a price of 2492.3, total balance is 50407.50000000001\nDate 2020-10-05 00:00:00: Buy 1 units of shares at a price of 2706.85, total balance is 47700.65000000001\nDate 2020-12-02 00:00:00: Sell 1 units of shares at a price of 2749.15, total balance is 50449.80000000001\nDate 2020-12-07 00:00:00: Buy 1 units of shares at a price of 2736.0, total balance is 47713.80000000001\nDate 2020-12-08 00:00:00: Sell 1 units of shares at a price of 2796.4, total balance is 50510.20000000001\nDate 2021-01-15 00:00:00: Buy 1 units of shares at a price of 3233.6, total balance is 47276.60000000001\nDate 2021-02-19 00:00:00: Sell 1 units of shares at a price of 3072.1, total balance is 50348.70000000001\nDate 2021-04-01 00:00:00: Buy 1 units of shares at a price of 3165.9, total balance is 47182.80000000001\nDate 2021-04-12 00:00:00: Sell 1 units of shares at a price of 3241.45, total balance is 50424.25000000001\nDate 2021-04-13 00:00:00: Buy 1 units of shares at a price of 3105.0, total balance is 47319.25000000001\n"
     ]
    }
   ],
   "source": [
    "# Execute the deals\n",
    "buy_data, sell_data, total_gain = deal_stocks(rev_df)"
   ]
  },
  {
   "cell_type": "code",
   "execution_count": 142,
   "metadata": {},
   "outputs": [
    {
     "output_type": "stream",
     "name": "stdout",
     "text": [
      "If invested starting from 2020-05-01 00:00:00, then total gain would have been 2680.7499999999927\n"
     ]
    }
   ],
   "source": [
    "print(f\"If invested starting from {start_date}, then total gain would have been {total_gain}\")"
   ]
  },
  {
   "cell_type": "code",
   "execution_count": 143,
   "metadata": {},
   "outputs": [],
   "source": [
    "# Creating buying and selling data dataframes\n",
    "buy_df = pd.DataFrame(columns=[\"Date\", \"Close\"], data=buy_data)\n",
    "sell_df = pd.DataFrame(columns=[\"Date\", \"Close\"], data=sell_data)"
   ]
  },
  {
   "cell_type": "code",
   "execution_count": 144,
   "metadata": {},
   "outputs": [
    {
     "output_type": "display_data",
     "data": {
      "application/vnd.plotly.v1+json": {
       "config": {
        "plotlyServerURL": "https://plot.ly"
       },
       "data": [
        {
         "mode": "lines",
         "type": "scatter",
         "x": [
          "2020-05-04T00:00:00",
          "2020-05-05T00:00:00",
          "2020-05-06T00:00:00",
          "2020-05-07T00:00:00",
          "2020-05-08T00:00:00",
          "2020-05-11T00:00:00",
          "2020-05-12T00:00:00",
          "2020-05-13T00:00:00",
          "2020-05-14T00:00:00",
          "2020-05-15T00:00:00",
          "2020-05-18T00:00:00",
          "2020-05-19T00:00:00",
          "2020-05-20T00:00:00",
          "2020-05-21T00:00:00",
          "2020-05-22T00:00:00",
          "2020-05-26T00:00:00",
          "2020-05-27T00:00:00",
          "2020-05-28T00:00:00",
          "2020-05-29T00:00:00",
          "2020-06-01T00:00:00",
          "2020-06-02T00:00:00",
          "2020-06-03T00:00:00",
          "2020-06-04T00:00:00",
          "2020-06-05T00:00:00",
          "2020-06-08T00:00:00",
          "2020-06-09T00:00:00",
          "2020-06-10T00:00:00",
          "2020-06-11T00:00:00",
          "2020-06-12T00:00:00",
          "2020-06-15T00:00:00",
          "2020-06-16T00:00:00",
          "2020-06-17T00:00:00",
          "2020-06-18T00:00:00",
          "2020-06-19T00:00:00",
          "2020-06-22T00:00:00",
          "2020-06-23T00:00:00",
          "2020-06-24T00:00:00",
          "2020-06-25T00:00:00",
          "2020-06-26T00:00:00",
          "2020-06-29T00:00:00",
          "2020-06-30T00:00:00",
          "2020-07-01T00:00:00",
          "2020-07-02T00:00:00",
          "2020-07-03T00:00:00",
          "2020-07-06T00:00:00",
          "2020-07-07T00:00:00",
          "2020-07-08T00:00:00",
          "2020-07-09T00:00:00",
          "2020-07-10T00:00:00",
          "2020-07-13T00:00:00",
          "2020-07-14T00:00:00",
          "2020-07-15T00:00:00",
          "2020-07-16T00:00:00",
          "2020-07-17T00:00:00",
          "2020-07-20T00:00:00",
          "2020-07-21T00:00:00",
          "2020-07-22T00:00:00",
          "2020-07-23T00:00:00",
          "2020-07-24T00:00:00",
          "2020-07-27T00:00:00",
          "2020-07-28T00:00:00",
          "2020-07-29T00:00:00",
          "2020-07-30T00:00:00",
          "2020-07-31T00:00:00",
          "2020-08-03T00:00:00",
          "2020-08-04T00:00:00",
          "2020-08-05T00:00:00",
          "2020-08-06T00:00:00",
          "2020-08-07T00:00:00",
          "2020-08-10T00:00:00",
          "2020-08-11T00:00:00",
          "2020-08-12T00:00:00",
          "2020-08-13T00:00:00",
          "2020-08-14T00:00:00",
          "2020-08-17T00:00:00",
          "2020-08-18T00:00:00",
          "2020-08-19T00:00:00",
          "2020-08-20T00:00:00",
          "2020-08-21T00:00:00",
          "2020-08-24T00:00:00",
          "2020-08-25T00:00:00",
          "2020-08-26T00:00:00",
          "2020-08-27T00:00:00",
          "2020-08-28T00:00:00",
          "2020-08-31T00:00:00",
          "2020-09-01T00:00:00",
          "2020-09-02T00:00:00",
          "2020-09-03T00:00:00",
          "2020-09-04T00:00:00",
          "2020-09-07T00:00:00",
          "2020-09-08T00:00:00",
          "2020-09-09T00:00:00",
          "2020-09-10T00:00:00",
          "2020-09-11T00:00:00",
          "2020-09-14T00:00:00",
          "2020-09-15T00:00:00",
          "2020-09-16T00:00:00",
          "2020-09-17T00:00:00",
          "2020-09-18T00:00:00",
          "2020-09-21T00:00:00",
          "2020-09-22T00:00:00",
          "2020-09-23T00:00:00",
          "2020-09-24T00:00:00",
          "2020-09-25T00:00:00",
          "2020-09-28T00:00:00",
          "2020-09-29T00:00:00",
          "2020-09-30T00:00:00",
          "2020-10-01T00:00:00",
          "2020-10-05T00:00:00",
          "2020-10-06T00:00:00",
          "2020-10-07T00:00:00",
          "2020-10-08T00:00:00",
          "2020-10-09T00:00:00",
          "2020-10-12T00:00:00",
          "2020-10-13T00:00:00",
          "2020-10-14T00:00:00",
          "2020-10-15T00:00:00",
          "2020-10-16T00:00:00",
          "2020-10-19T00:00:00",
          "2020-10-20T00:00:00",
          "2020-10-21T00:00:00",
          "2020-10-22T00:00:00",
          "2020-10-23T00:00:00",
          "2020-10-26T00:00:00",
          "2020-10-27T00:00:00",
          "2020-10-28T00:00:00",
          "2020-10-29T00:00:00",
          "2020-10-30T00:00:00",
          "2020-11-02T00:00:00",
          "2020-11-03T00:00:00",
          "2020-11-04T00:00:00",
          "2020-11-05T00:00:00",
          "2020-11-06T00:00:00",
          "2020-11-09T00:00:00",
          "2020-11-10T00:00:00",
          "2020-11-11T00:00:00",
          "2020-11-12T00:00:00",
          "2020-11-13T00:00:00",
          "2020-11-14T00:00:00",
          "2020-11-17T00:00:00",
          "2020-11-18T00:00:00",
          "2020-11-19T00:00:00",
          "2020-11-20T00:00:00",
          "2020-11-23T00:00:00",
          "2020-11-24T00:00:00",
          "2020-11-25T00:00:00",
          "2020-11-26T00:00:00",
          "2020-11-27T00:00:00",
          "2020-12-01T00:00:00",
          "2020-12-02T00:00:00",
          "2020-12-03T00:00:00",
          "2020-12-04T00:00:00",
          "2020-12-07T00:00:00",
          "2020-12-08T00:00:00",
          "2020-12-09T00:00:00",
          "2020-12-10T00:00:00",
          "2020-12-11T00:00:00",
          "2020-12-14T00:00:00",
          "2020-12-15T00:00:00",
          "2020-12-16T00:00:00",
          "2020-12-17T00:00:00",
          "2020-12-18T00:00:00",
          "2020-12-21T00:00:00",
          "2020-12-22T00:00:00",
          "2020-12-23T00:00:00",
          "2020-12-24T00:00:00",
          "2020-12-28T00:00:00",
          "2020-12-29T00:00:00",
          "2020-12-30T00:00:00",
          "2020-12-31T00:00:00",
          "2021-01-01T00:00:00",
          "2021-01-04T00:00:00",
          "2021-01-05T00:00:00",
          "2021-01-06T00:00:00",
          "2021-01-07T00:00:00",
          "2021-01-08T00:00:00",
          "2021-01-11T00:00:00",
          "2021-01-12T00:00:00",
          "2021-01-13T00:00:00",
          "2021-01-14T00:00:00",
          "2021-01-15T00:00:00",
          "2021-01-18T00:00:00",
          "2021-01-19T00:00:00",
          "2021-01-20T00:00:00",
          "2021-01-21T00:00:00",
          "2021-01-22T00:00:00",
          "2021-01-25T00:00:00",
          "2021-01-27T00:00:00",
          "2021-01-28T00:00:00",
          "2021-01-29T00:00:00",
          "2021-02-01T00:00:00",
          "2021-02-02T00:00:00",
          "2021-02-03T00:00:00",
          "2021-02-04T00:00:00",
          "2021-02-05T00:00:00",
          "2021-02-08T00:00:00",
          "2021-02-09T00:00:00",
          "2021-02-10T00:00:00",
          "2021-02-11T00:00:00",
          "2021-02-12T00:00:00",
          "2021-02-15T00:00:00",
          "2021-02-16T00:00:00",
          "2021-02-17T00:00:00",
          "2021-02-18T00:00:00",
          "2021-02-19T00:00:00",
          "2021-02-22T00:00:00",
          "2021-02-23T00:00:00",
          "2021-02-24T00:00:00",
          "2021-02-25T00:00:00",
          "2021-02-26T00:00:00",
          "2021-03-01T00:00:00",
          "2021-03-02T00:00:00",
          "2021-03-03T00:00:00",
          "2021-03-04T00:00:00",
          "2021-03-05T00:00:00",
          "2021-03-08T00:00:00",
          "2021-03-09T00:00:00",
          "2021-03-10T00:00:00",
          "2021-03-12T00:00:00",
          "2021-03-15T00:00:00",
          "2021-03-16T00:00:00",
          "2021-03-17T00:00:00",
          "2021-03-18T00:00:00",
          "2021-03-19T00:00:00",
          "2021-03-22T00:00:00",
          "2021-03-23T00:00:00",
          "2021-03-24T00:00:00",
          "2021-03-25T00:00:00",
          "2021-03-26T00:00:00",
          "2021-03-30T00:00:00",
          "2021-03-31T00:00:00",
          "2021-04-01T00:00:00",
          "2021-04-05T00:00:00",
          "2021-04-06T00:00:00",
          "2021-04-07T00:00:00",
          "2021-04-08T00:00:00",
          "2021-04-09T00:00:00",
          "2021-04-12T00:00:00",
          "2021-04-13T00:00:00",
          "2021-04-15T00:00:00",
          "2021-04-16T00:00:00"
         ],
         "y": [
          1929.15,
          1931.5,
          1904.25,
          1891.25,
          1893.5,
          1935.3,
          1948.95,
          1949.45,
          1900.8,
          1893.3,
          1944.85,
          1948.25,
          1952.45,
          1991.55,
          2018.95,
          1943.35,
          2005.1,
          2005.2,
          1971.55,
          2044.65,
          2046.9,
          2045.35,
          2093.9,
          2048.1,
          2071.4,
          2073.35,
          2108.3,
          2067.8,
          2038.7,
          2030.05,
          2044.95,
          2047.75,
          2036.8,
          2047.05,
          2028.3,
          2035.4,
          2042.35,
          2010.9,
          2115.6,
          2101.85,
          2082.2,
          2092.55,
          2158.35,
          2199,
          2263.1,
          2269.95,
          2217.65,
          2204.35,
          2221.65,
          2219.55,
          2171.7,
          2233.55,
          2233.65,
          2201.35,
          2209.75,
          2225.6,
          2189.95,
          2170.75,
          2157.05,
          2205.8,
          2309.2,
          2275.05,
          2277.95,
          2282.45,
          2251.3,
          2249.15,
          2258.8,
          2307.7,
          2294.95,
          2281.6,
          2279.25,
          2256.7,
          2255.5,
          2242.45,
          2252.05,
          2269.4,
          2256.25,
          2252,
          2248.2,
          2247.95,
          2242.25,
          2254.65,
          2247.9,
          2237.1,
          2256.35,
          2245.3,
          2264.8,
          2299.55,
          2289.75,
          2327.4,
          2348.95,
          2323.75,
          2331.6,
          2373.7,
          2492.3,
          2490.25,
          2502.65,
          2460.05,
          2450.75,
          2464.6,
          2523.55,
          2467.15,
          2331.5,
          2422.3,
          2425.35,
          2487.25,
          2491.5,
          2522.75,
          2706.85,
          2716.15,
          2737.4,
          2824.8,
          2814.95,
          2831.2,
          2825.65,
          2809.8,
          2738.7,
          2762.5,
          2711.45,
          2738.4,
          2675.45,
          2670.8,
          2686.45,
          2687.65,
          2631.45,
          2621.75,
          2633.7,
          2664.85,
          2603.85,
          2632.65,
          2653.25,
          2687.25,
          2708.25,
          2725.9,
          2649.95,
          2688.55,
          2670.7,
          2657.3,
          2670.7,
          2666.2,
          2625.9,
          2637.05,
          2659.6,
          2724,
          2722.1,
          2700.7,
          2720.85,
          2679.15,
          2726.95,
          2749.15,
          2708.45,
          2726,
          2736,
          2796.4,
          2809.8,
          2784.15,
          2783.45,
          2796.5,
          2761.2,
          2813.25,
          2837.9,
          2862.6,
          2818.75,
          2870.8,
          2907.2,
          2908.45,
          2928.25,
          2930.65,
          2908.85,
          2870.2,
          2928.2,
          3039.25,
          3092.3,
          3052.95,
          3032.7,
          3120.35,
          3175.05,
          3172.85,
          3158.8,
          3250.15,
          3233.6,
          3220.8,
          3265.15,
          3308.2,
          3274.8,
          3303.4,
          3290.2,
          3261.05,
          3199.45,
          3112.9,
          3140.7,
          3203,
          3199.1,
          3187.3,
          3158.05,
          3215.15,
          3175.8,
          3210.95,
          3205.85,
          3191.15,
          3139.95,
          3109.3,
          3073.5,
          3057.55,
          3072.1,
          2958.75,
          2980,
          2951.4,
          2992.9,
          2896.05,
          2926.2,
          3010.55,
          3058.65,
          3047.7,
          3007,
          3007.2,
          3049.95,
          3071.95,
          3056.9,
          3066.35,
          3108.7,
          3112.7,
          3036.8,
          3063.25,
          3129.6,
          3142.05,
          3120.95,
          3068.05,
          3068.15,
          3159.95,
          3177.6,
          3165.9,
          3239.3,
          3263.85,
          3270.75,
          3316.5,
          3322.2,
          3241.45,
          3105,
          3218.95,
          3193.3
         ]
        },
        {
         "marker": {
          "color": "red",
          "size": 20,
          "symbol": "triangle-up"
         },
         "mode": "markers",
         "type": "scatter",
         "x": [
          "2020-05-28T00:00:00",
          "2020-07-01T00:00:00",
          "2020-07-24T00:00:00",
          "2020-09-11T00:00:00",
          "2020-10-05T00:00:00",
          "2020-12-07T00:00:00",
          "2021-01-15T00:00:00",
          "2021-04-01T00:00:00",
          "2021-04-13T00:00:00"
         ],
         "y": [
          2005.2,
          2092.55,
          2157.05,
          2373.7,
          2706.85,
          2736,
          3233.6,
          3165.9,
          3105
         ]
        },
        {
         "marker": {
          "color": "green",
          "size": 20,
          "symbol": "triangle-down"
         },
         "mode": "markers",
         "type": "scatter",
         "x": [
          "2020-06-11T00:00:00",
          "2020-07-16T00:00:00",
          "2020-08-25T00:00:00",
          "2020-09-14T00:00:00",
          "2020-12-02T00:00:00",
          "2020-12-08T00:00:00",
          "2021-02-19T00:00:00",
          "2021-04-12T00:00:00"
         ],
         "y": [
          2067.8,
          2233.65,
          2242.25,
          2492.3,
          2749.15,
          2796.4,
          3072.1,
          3241.45
         ]
        }
       ],
       "layout": {
        "template": {
         "data": {
          "bar": [
           {
            "error_x": {
             "color": "#2a3f5f"
            },
            "error_y": {
             "color": "#2a3f5f"
            },
            "marker": {
             "line": {
              "color": "#E5ECF6",
              "width": 0.5
             }
            },
            "type": "bar"
           }
          ],
          "barpolar": [
           {
            "marker": {
             "line": {
              "color": "#E5ECF6",
              "width": 0.5
             }
            },
            "type": "barpolar"
           }
          ],
          "carpet": [
           {
            "aaxis": {
             "endlinecolor": "#2a3f5f",
             "gridcolor": "white",
             "linecolor": "white",
             "minorgridcolor": "white",
             "startlinecolor": "#2a3f5f"
            },
            "baxis": {
             "endlinecolor": "#2a3f5f",
             "gridcolor": "white",
             "linecolor": "white",
             "minorgridcolor": "white",
             "startlinecolor": "#2a3f5f"
            },
            "type": "carpet"
           }
          ],
          "choropleth": [
           {
            "colorbar": {
             "outlinewidth": 0,
             "ticks": ""
            },
            "type": "choropleth"
           }
          ],
          "contour": [
           {
            "colorbar": {
             "outlinewidth": 0,
             "ticks": ""
            },
            "colorscale": [
             [
              0,
              "#0d0887"
             ],
             [
              0.1111111111111111,
              "#46039f"
             ],
             [
              0.2222222222222222,
              "#7201a8"
             ],
             [
              0.3333333333333333,
              "#9c179e"
             ],
             [
              0.4444444444444444,
              "#bd3786"
             ],
             [
              0.5555555555555556,
              "#d8576b"
             ],
             [
              0.6666666666666666,
              "#ed7953"
             ],
             [
              0.7777777777777778,
              "#fb9f3a"
             ],
             [
              0.8888888888888888,
              "#fdca26"
             ],
             [
              1,
              "#f0f921"
             ]
            ],
            "type": "contour"
           }
          ],
          "contourcarpet": [
           {
            "colorbar": {
             "outlinewidth": 0,
             "ticks": ""
            },
            "type": "contourcarpet"
           }
          ],
          "heatmap": [
           {
            "colorbar": {
             "outlinewidth": 0,
             "ticks": ""
            },
            "colorscale": [
             [
              0,
              "#0d0887"
             ],
             [
              0.1111111111111111,
              "#46039f"
             ],
             [
              0.2222222222222222,
              "#7201a8"
             ],
             [
              0.3333333333333333,
              "#9c179e"
             ],
             [
              0.4444444444444444,
              "#bd3786"
             ],
             [
              0.5555555555555556,
              "#d8576b"
             ],
             [
              0.6666666666666666,
              "#ed7953"
             ],
             [
              0.7777777777777778,
              "#fb9f3a"
             ],
             [
              0.8888888888888888,
              "#fdca26"
             ],
             [
              1,
              "#f0f921"
             ]
            ],
            "type": "heatmap"
           }
          ],
          "heatmapgl": [
           {
            "colorbar": {
             "outlinewidth": 0,
             "ticks": ""
            },
            "colorscale": [
             [
              0,
              "#0d0887"
             ],
             [
              0.1111111111111111,
              "#46039f"
             ],
             [
              0.2222222222222222,
              "#7201a8"
             ],
             [
              0.3333333333333333,
              "#9c179e"
             ],
             [
              0.4444444444444444,
              "#bd3786"
             ],
             [
              0.5555555555555556,
              "#d8576b"
             ],
             [
              0.6666666666666666,
              "#ed7953"
             ],
             [
              0.7777777777777778,
              "#fb9f3a"
             ],
             [
              0.8888888888888888,
              "#fdca26"
             ],
             [
              1,
              "#f0f921"
             ]
            ],
            "type": "heatmapgl"
           }
          ],
          "histogram": [
           {
            "marker": {
             "colorbar": {
              "outlinewidth": 0,
              "ticks": ""
             }
            },
            "type": "histogram"
           }
          ],
          "histogram2d": [
           {
            "colorbar": {
             "outlinewidth": 0,
             "ticks": ""
            },
            "colorscale": [
             [
              0,
              "#0d0887"
             ],
             [
              0.1111111111111111,
              "#46039f"
             ],
             [
              0.2222222222222222,
              "#7201a8"
             ],
             [
              0.3333333333333333,
              "#9c179e"
             ],
             [
              0.4444444444444444,
              "#bd3786"
             ],
             [
              0.5555555555555556,
              "#d8576b"
             ],
             [
              0.6666666666666666,
              "#ed7953"
             ],
             [
              0.7777777777777778,
              "#fb9f3a"
             ],
             [
              0.8888888888888888,
              "#fdca26"
             ],
             [
              1,
              "#f0f921"
             ]
            ],
            "type": "histogram2d"
           }
          ],
          "histogram2dcontour": [
           {
            "colorbar": {
             "outlinewidth": 0,
             "ticks": ""
            },
            "colorscale": [
             [
              0,
              "#0d0887"
             ],
             [
              0.1111111111111111,
              "#46039f"
             ],
             [
              0.2222222222222222,
              "#7201a8"
             ],
             [
              0.3333333333333333,
              "#9c179e"
             ],
             [
              0.4444444444444444,
              "#bd3786"
             ],
             [
              0.5555555555555556,
              "#d8576b"
             ],
             [
              0.6666666666666666,
              "#ed7953"
             ],
             [
              0.7777777777777778,
              "#fb9f3a"
             ],
             [
              0.8888888888888888,
              "#fdca26"
             ],
             [
              1,
              "#f0f921"
             ]
            ],
            "type": "histogram2dcontour"
           }
          ],
          "mesh3d": [
           {
            "colorbar": {
             "outlinewidth": 0,
             "ticks": ""
            },
            "type": "mesh3d"
           }
          ],
          "parcoords": [
           {
            "line": {
             "colorbar": {
              "outlinewidth": 0,
              "ticks": ""
             }
            },
            "type": "parcoords"
           }
          ],
          "pie": [
           {
            "automargin": true,
            "type": "pie"
           }
          ],
          "scatter": [
           {
            "marker": {
             "colorbar": {
              "outlinewidth": 0,
              "ticks": ""
             }
            },
            "type": "scatter"
           }
          ],
          "scatter3d": [
           {
            "line": {
             "colorbar": {
              "outlinewidth": 0,
              "ticks": ""
             }
            },
            "marker": {
             "colorbar": {
              "outlinewidth": 0,
              "ticks": ""
             }
            },
            "type": "scatter3d"
           }
          ],
          "scattercarpet": [
           {
            "marker": {
             "colorbar": {
              "outlinewidth": 0,
              "ticks": ""
             }
            },
            "type": "scattercarpet"
           }
          ],
          "scattergeo": [
           {
            "marker": {
             "colorbar": {
              "outlinewidth": 0,
              "ticks": ""
             }
            },
            "type": "scattergeo"
           }
          ],
          "scattergl": [
           {
            "marker": {
             "colorbar": {
              "outlinewidth": 0,
              "ticks": ""
             }
            },
            "type": "scattergl"
           }
          ],
          "scattermapbox": [
           {
            "marker": {
             "colorbar": {
              "outlinewidth": 0,
              "ticks": ""
             }
            },
            "type": "scattermapbox"
           }
          ],
          "scatterpolar": [
           {
            "marker": {
             "colorbar": {
              "outlinewidth": 0,
              "ticks": ""
             }
            },
            "type": "scatterpolar"
           }
          ],
          "scatterpolargl": [
           {
            "marker": {
             "colorbar": {
              "outlinewidth": 0,
              "ticks": ""
             }
            },
            "type": "scatterpolargl"
           }
          ],
          "scatterternary": [
           {
            "marker": {
             "colorbar": {
              "outlinewidth": 0,
              "ticks": ""
             }
            },
            "type": "scatterternary"
           }
          ],
          "surface": [
           {
            "colorbar": {
             "outlinewidth": 0,
             "ticks": ""
            },
            "colorscale": [
             [
              0,
              "#0d0887"
             ],
             [
              0.1111111111111111,
              "#46039f"
             ],
             [
              0.2222222222222222,
              "#7201a8"
             ],
             [
              0.3333333333333333,
              "#9c179e"
             ],
             [
              0.4444444444444444,
              "#bd3786"
             ],
             [
              0.5555555555555556,
              "#d8576b"
             ],
             [
              0.6666666666666666,
              "#ed7953"
             ],
             [
              0.7777777777777778,
              "#fb9f3a"
             ],
             [
              0.8888888888888888,
              "#fdca26"
             ],
             [
              1,
              "#f0f921"
             ]
            ],
            "type": "surface"
           }
          ],
          "table": [
           {
            "cells": {
             "fill": {
              "color": "#EBF0F8"
             },
             "line": {
              "color": "white"
             }
            },
            "header": {
             "fill": {
              "color": "#C8D4E3"
             },
             "line": {
              "color": "white"
             }
            },
            "type": "table"
           }
          ]
         },
         "layout": {
          "annotationdefaults": {
           "arrowcolor": "#2a3f5f",
           "arrowhead": 0,
           "arrowwidth": 1
          },
          "autotypenumbers": "strict",
          "coloraxis": {
           "colorbar": {
            "outlinewidth": 0,
            "ticks": ""
           }
          },
          "colorscale": {
           "diverging": [
            [
             0,
             "#8e0152"
            ],
            [
             0.1,
             "#c51b7d"
            ],
            [
             0.2,
             "#de77ae"
            ],
            [
             0.3,
             "#f1b6da"
            ],
            [
             0.4,
             "#fde0ef"
            ],
            [
             0.5,
             "#f7f7f7"
            ],
            [
             0.6,
             "#e6f5d0"
            ],
            [
             0.7,
             "#b8e186"
            ],
            [
             0.8,
             "#7fbc41"
            ],
            [
             0.9,
             "#4d9221"
            ],
            [
             1,
             "#276419"
            ]
           ],
           "sequential": [
            [
             0,
             "#0d0887"
            ],
            [
             0.1111111111111111,
             "#46039f"
            ],
            [
             0.2222222222222222,
             "#7201a8"
            ],
            [
             0.3333333333333333,
             "#9c179e"
            ],
            [
             0.4444444444444444,
             "#bd3786"
            ],
            [
             0.5555555555555556,
             "#d8576b"
            ],
            [
             0.6666666666666666,
             "#ed7953"
            ],
            [
             0.7777777777777778,
             "#fb9f3a"
            ],
            [
             0.8888888888888888,
             "#fdca26"
            ],
            [
             1,
             "#f0f921"
            ]
           ],
           "sequentialminus": [
            [
             0,
             "#0d0887"
            ],
            [
             0.1111111111111111,
             "#46039f"
            ],
            [
             0.2222222222222222,
             "#7201a8"
            ],
            [
             0.3333333333333333,
             "#9c179e"
            ],
            [
             0.4444444444444444,
             "#bd3786"
            ],
            [
             0.5555555555555556,
             "#d8576b"
            ],
            [
             0.6666666666666666,
             "#ed7953"
            ],
            [
             0.7777777777777778,
             "#fb9f3a"
            ],
            [
             0.8888888888888888,
             "#fdca26"
            ],
            [
             1,
             "#f0f921"
            ]
           ]
          },
          "colorway": [
           "#636efa",
           "#EF553B",
           "#00cc96",
           "#ab63fa",
           "#FFA15A",
           "#19d3f3",
           "#FF6692",
           "#B6E880",
           "#FF97FF",
           "#FECB52"
          ],
          "font": {
           "color": "#2a3f5f"
          },
          "geo": {
           "bgcolor": "white",
           "lakecolor": "white",
           "landcolor": "#E5ECF6",
           "showlakes": true,
           "showland": true,
           "subunitcolor": "white"
          },
          "hoverlabel": {
           "align": "left"
          },
          "hovermode": "closest",
          "mapbox": {
           "style": "light"
          },
          "paper_bgcolor": "white",
          "plot_bgcolor": "#E5ECF6",
          "polar": {
           "angularaxis": {
            "gridcolor": "white",
            "linecolor": "white",
            "ticks": ""
           },
           "bgcolor": "#E5ECF6",
           "radialaxis": {
            "gridcolor": "white",
            "linecolor": "white",
            "ticks": ""
           }
          },
          "scene": {
           "xaxis": {
            "backgroundcolor": "#E5ECF6",
            "gridcolor": "white",
            "gridwidth": 2,
            "linecolor": "white",
            "showbackground": true,
            "ticks": "",
            "zerolinecolor": "white"
           },
           "yaxis": {
            "backgroundcolor": "#E5ECF6",
            "gridcolor": "white",
            "gridwidth": 2,
            "linecolor": "white",
            "showbackground": true,
            "ticks": "",
            "zerolinecolor": "white"
           },
           "zaxis": {
            "backgroundcolor": "#E5ECF6",
            "gridcolor": "white",
            "gridwidth": 2,
            "linecolor": "white",
            "showbackground": true,
            "ticks": "",
            "zerolinecolor": "white"
           }
          },
          "shapedefaults": {
           "line": {
            "color": "#2a3f5f"
           }
          },
          "ternary": {
           "aaxis": {
            "gridcolor": "white",
            "linecolor": "white",
            "ticks": ""
           },
           "baxis": {
            "gridcolor": "white",
            "linecolor": "white",
            "ticks": ""
           },
           "bgcolor": "#E5ECF6",
           "caxis": {
            "gridcolor": "white",
            "linecolor": "white",
            "ticks": ""
           }
          },
          "title": {
           "x": 0.05
          },
          "xaxis": {
           "automargin": true,
           "gridcolor": "white",
           "linecolor": "white",
           "ticks": "",
           "title": {
            "standoff": 15
           },
           "zerolinecolor": "white",
           "zerolinewidth": 2
          },
          "yaxis": {
           "automargin": true,
           "gridcolor": "white",
           "linecolor": "white",
           "ticks": "",
           "title": {
            "standoff": 15
           },
           "zerolinecolor": "white",
           "zerolinewidth": 2
          }
         }
        },
        "width": 1200
       }
      }
     },
     "metadata": {}
    }
   ],
   "source": [
    "# Plot all the relevant values\n",
    "close_chart = go.Scatter(x=rev_df[\"Date\"], y=rev_df[\"Close\"], mode=\"lines\")\n",
    "buy_chart = go.Scatter(x=buy_df[\"Date\"], y=buy_df[\"Close\"], mode=\"markers\", marker_symbol=\"triangle-up\", marker=dict(size=20, color=\"red\"))\n",
    "sell_chart = go.Scatter(x=sell_df[\"Date\"], y=sell_df[\"Close\"], mode=\"markers\", marker_symbol=\"triangle-down\", marker=dict(size=20, color=\"green\"))\n",
    "fig = go.Figure(data=[close_chart, buy_chart, sell_chart])\n",
    "fig.update_layout(width=1200)\n",
    "fig.show()"
   ]
  },
  {
   "cell_type": "code",
   "execution_count": null,
   "metadata": {},
   "outputs": [],
   "source": []
  }
 ]
}